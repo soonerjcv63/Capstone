{
 "cells": [
  {
   "cell_type": "markdown",
   "metadata": {},
   "source": [
    "#What is the True Normal Human Body Temperature? \n",
    "\n",
    " Background\n",
    "\n",
    "The mean normal body temperature was held to be 37$^{\\circ}$C or 98.6$^{\\circ}$F for more than 120 years since it was first conceptualized and reported by Carl Wunderlich in a famous 1868 book. But, is this value statistically correct?"
   ]
  },
  {
   "cell_type": "markdown",
   "metadata": {},
   "source": [
    "<h3>Exercises</h3>\n",
    "\n",
    "<p>In this exercise, you will analyze a dataset of human body temperatures and employ the concepts of hypothesis testing, confidence intervals, and statistical significance.</p>\n",
    "\n",
    "<p>Answer the following questions <b>in this notebook below and submit to your Github account</b>.</p> \n",
    "\n",
    "<ol>\n",
    "<li>  Is the distribution of body temperatures normal? \n",
    "    <ul>\n",
    "    <li> Although this is not a requirement for CLT to hold (read CLT carefully), it gives us some peace of mind that the population may also be normally distributed if we assume that this sample is representative of the population.\n",
    "    </ul>\n",
    "<li>  Is the sample size large? Are the observations independent?\n",
    "    <ul>\n",
    "    <li> Remember that this is a condition for the CLT, and hence the statistical tests we are using, to apply.\n",
    "    </ul>\n",
    "<li>  Is the true population mean really 98.6 degrees F?\n",
    "    <ul>\n",
    "    <li> Would you use a one-sample or two-sample test? Why?\n",
    "    <li> In this situation, is it appropriate to use the $t$ or $z$ statistic? \n",
    "    <li> Now try using the other test. How is the result be different? Why?\n",
    "    </ul>\n",
    "<li>  Draw a small sample of size 10 from the data and repeat both tests. \n",
    "    <ul>\n",
    "    <li> Which one is the correct one to use? \n",
    "    <li> What do you notice? What does this tell you about the difference in application of the $t$ and $z$ statistic?\n",
    "    </ul>\n",
    "<li>  At what temperature should we consider someone's temperature to be \"abnormal\"?\n",
    "    <ul>\n",
    "    <li> Start by computing the margin of error and confidence interval.\n",
    "    </ul>\n",
    "<li>  Is there a significant difference between males and females in normal temperature?\n",
    "    <ul>\n",
    "    <li> What test did you use and why?\n",
    "    <li> Write a story with your conclusion in the context of the original problem.\n",
    "    </ul>\n",
    "</ol>\n",
    "\n",
    "You can include written notes in notebook cells using Markdown: \n",
    "   - In the control panel at the top, choose Cell > Cell Type > Markdown\n",
    "   - Markdown syntax: http://nestacms.com/docs/creating-content/markdown-cheat-sheet\n",
    "\n",
    "#### Resources\n",
    "\n",
    "+ Information and data sources: http://www.amstat.org/publications/jse/datasets/normtemp.txt, http://www.amstat.org/publications/jse/jse_data_archive.htm\n",
    "+ Markdown syntax: http://nestacms.com/docs/creating-content/markdown-cheat-sheet\n",
    "\n",
    "****"
   ]
  },
  {
   "cell_type": "code",
   "execution_count": 4,
   "metadata": {
    "collapsed": true
   },
   "outputs": [],
   "source": [
    "import pandas as pd\n",
    "df = pd.read_csv('C:/Users/soone/Anaconda3/data/human_body_temperature.csv')"
   ]
  },
  {
   "cell_type": "code",
   "execution_count": 5,
   "metadata": {},
   "outputs": [
    {
     "data": {
      "text/html": [
       "<div>\n",
       "<style>\n",
       "    .dataframe thead tr:only-child th {\n",
       "        text-align: right;\n",
       "    }\n",
       "\n",
       "    .dataframe thead th {\n",
       "        text-align: left;\n",
       "    }\n",
       "\n",
       "    .dataframe tbody tr th {\n",
       "        vertical-align: top;\n",
       "    }\n",
       "</style>\n",
       "<table border=\"1\" class=\"dataframe\">\n",
       "  <thead>\n",
       "    <tr style=\"text-align: right;\">\n",
       "      <th></th>\n",
       "      <th>temperature</th>\n",
       "      <th>gender</th>\n",
       "      <th>heart_rate</th>\n",
       "    </tr>\n",
       "  </thead>\n",
       "  <tbody>\n",
       "    <tr>\n",
       "      <th>0</th>\n",
       "      <td>99.3</td>\n",
       "      <td>F</td>\n",
       "      <td>68.0</td>\n",
       "    </tr>\n",
       "    <tr>\n",
       "      <th>1</th>\n",
       "      <td>98.4</td>\n",
       "      <td>F</td>\n",
       "      <td>81.0</td>\n",
       "    </tr>\n",
       "    <tr>\n",
       "      <th>2</th>\n",
       "      <td>97.8</td>\n",
       "      <td>M</td>\n",
       "      <td>73.0</td>\n",
       "    </tr>\n",
       "    <tr>\n",
       "      <th>3</th>\n",
       "      <td>99.2</td>\n",
       "      <td>F</td>\n",
       "      <td>66.0</td>\n",
       "    </tr>\n",
       "    <tr>\n",
       "      <th>4</th>\n",
       "      <td>98.0</td>\n",
       "      <td>F</td>\n",
       "      <td>73.0</td>\n",
       "    </tr>\n",
       "  </tbody>\n",
       "</table>\n",
       "</div>"
      ],
      "text/plain": [
       "   temperature gender  heart_rate\n",
       "0         99.3      F        68.0\n",
       "1         98.4      F        81.0\n",
       "2         97.8      M        73.0\n",
       "3         99.2      F        66.0\n",
       "4         98.0      F        73.0"
      ]
     },
     "execution_count": 5,
     "metadata": {},
     "output_type": "execute_result"
    }
   ],
   "source": [
    "df.head(5)"
   ]
  },
  {
   "cell_type": "code",
   "execution_count": 58,
   "metadata": {
    "collapsed": true
   },
   "outputs": [],
   "source": [
    "import numpy as np\n",
    "import matplotlib.pyplot as plt"
   ]
  },
  {
   "cell_type": "markdown",
   "metadata": {},
   "source": [
    "1. Is the distribution of body temperatures normal? YES\n",
    "       Mean, median and mode are approximately equal which suggests normal distribution. Also, see below, the plot of the ecdf of 'temperature' suggests normal distribution.           "
   ]
  },
  {
   "cell_type": "code",
   "execution_count": 8,
   "metadata": {},
   "outputs": [
    {
     "name": "stdout",
     "output_type": "stream",
     "text": [
      "98.24923076923078\n",
      "98.3\n",
      "ModeResult(mode=array([ 98.]), count=array([11]))\n"
     ]
    }
   ],
   "source": [
    "temp_mean = df['temperature'].mean()\n",
    "temp_median = df['temperature'].median()\n",
    "from scipy import stats\n",
    "temp_mode = stats.mode(df['temperature'])\n",
    "print(temp_mean)\n",
    "print(temp_median)\n",
    "print(temp_mode)"
   ]
  },
  {
   "cell_type": "code",
   "execution_count": 7,
   "metadata": {},
   "outputs": [
    {
     "data": {
      "image/png": "[encoded data removed]",
      "text/plain": [
       "<matplotlib.figure.Figure at 0x2c88c90e898>"
      ]
     },
     "metadata": {},
     "output_type": "display_data"
    }
   ],
   "source": [
    "# 1. Is the distribution of body temperatures normal? YES\n",
    "# Plot of the ecdf of 'temperature' suggests normal distribution\n",
    "x = np.sort(df['temperature'])\n",
    "y =  np.arange(1, len(x)+1) / len(x)\n",
    "_ = plt.plot(x, y, marker='.', linestyle='none')\n",
    "_ = plt.xlabel('human body temperature') \n",
    "_ = plt.ylabel('ECDF') \n",
    "plt.margins(0.02)\n",
    "plt.show()"
   ]
  },
  {
   "cell_type": "markdown",
   "metadata": {},
   "source": [
    " 2. Is the sample size large? YES\n",
    "         Total of 130 observations. Generally a sample size is considered large if (n >= 30).\n",
    "\n",
    " 2b.  Are the observations independent?\n",
    "        Two observations are independent if the occurrence of one observation provides no information about the occurrence of the other observation. \n",
    "            Also, if the sample was not taken with replacement (no evidence of that here) then a sample is considered to be independent if < 10% of the total population.  If the total population here is assumed to be the entire human population, then we are safely under 10 percent with a total sample of 130."
   ]
  },
  {
   "cell_type": "code",
   "execution_count": 50,
   "metadata": {},
   "outputs": [
    {
     "name": "stdout",
     "output_type": "stream",
     "text": [
      "130\n"
     ]
    }
   ],
   "source": [
    "size = len(df['temperature'])\n",
    "print(size)"
   ]
  },
  {
   "cell_type": "markdown",
   "metadata": {
    "collapsed": true
   },
   "source": [
    "3. Is the true population mean really 98.6 degrees F? \n",
    "    Null hypothesis: Is the true population mean really 98.6 degrees F?\n",
    "    Alternate hypothesis: Population mean is not equal to 98.6 degrees F.\n",
    "\n",
    "• Would you use a one-sample or two-sample test? Why?\n",
    "    A one sample test would be most appropriate as it compares one set of data to a single number, in this case, Wunderlich’s value of 98.6.\n",
    "    \n",
    "• In this situation, is it appropriate to use the t or z statistic?\n",
    "    Generally, in sample sizes of n >= 30 it is appropriate to use the z-statistic which allows one to use the standard deviation of the sample in the denominator of the equation.  As our sample size is 130 we should use the z-statistic as the sample is normally distributed.\n",
    "    \n",
    "• Now try using the other test. How is the result be different? Why? \n",
    "    The equation for the z & t statistic are essentially the same. However, the t statistic is used when the sample size is < 30 and implies there is not normal distribution of the sample population.\n",
    "    Z = T = np.mean(temp_obs) - Wunderlich_mean (or our value for diff below)/ (np.std(temp_obs)/(sqrt(130))\n",
    "    Z is used where the sample size is generally greater than 30 and is normally distributed.\n",
    "    T is used with smaller sample sizes where distribution is not likely normal.\n",
    "    The values are the same but result in different p-values(values are looked up in two different tables) or probabilities that the Wunderlich mean falls within our sample distribution. In this case our sample mean is more than 5 std deviations below the Wunderlich value of 98.6.\n",
    "    As we have a sample size > 30 the z-statistic would be appropriate which results in a p value of less than 0.0001.  In conclusion, we have a probability of less than 1 in 10,000 that a value from our sample population would be as great or greater than 98.6 degrees (F). This is confirmed below in our bootstrap analysis which also comes up with a p value of 0.0 with 10,000 samples.\n",
    "    Using a T statistic of -5.47 we also see that this value is off the chart, even for a degree of freedom (n-1 = 129) and results in a probability < 0.0005.\n",
    "    Z & T statistics yield a P values which come closer to each other (P(z) = P(t)) as the sample size grows larger.  With a sample size of 130 these values yield nearly the same probability.  The smaller the sample size, the greater the T value would need (number of std. dev. from the mean) to be to yield the same P value as would a Z statistic value."
   ]
  },
  {
   "cell_type": "code",
   "execution_count": 52,
   "metadata": {
    "collapsed": true
   },
   "outputs": [],
   "source": [
    "Z = (np.mean(temp_obs) - 98.6) / (np.std(temp_obs)/ (130**(0.5)))"
   ]
  },
  {
   "cell_type": "code",
   "execution_count": 53,
   "metadata": {},
   "outputs": [
    {
     "name": "stdout",
     "output_type": "stream",
     "text": [
      "-5.475925202078116\n"
     ]
    }
   ],
   "source": [
    "print(Z)"
   ]
  },
  {
   "cell_type": "code",
   "execution_count": 12,
   "metadata": {},
   "outputs": [
    {
     "data": {
      "text/plain": [
       "0.0"
      ]
     },
     "execution_count": 12,
     "metadata": {},
     "output_type": "execute_result"
    }
   ],
   "source": [
    "# Null hypothesis: Is the true population mean really 98.6 degrees F?\n",
    "# Alternate hypothesis: population mean is not equal to 98.6 degrees F.\n",
    "# Begin by shifting mean of the test population to equal 98.6 degrees F\n",
    "# We can also find a p-value by resampling our population and generating 10,000 replicates and finding the number\n",
    "# of replicants with a value greater > 98.6. As determined below, we had none that were >= 98.6 strongly suggesting\n",
    "# a rejection of the null hypothesis.\n",
    "Wunderlich_mean = 98.6\n",
    "temp_obs = df['temperature']\n",
    "shifted_temp_obs = temp_obs - np.mean(temp_obs) + Wunderlich_mean\n",
    "diff = np.mean(temp_obs) - Wunderlich_mean\n",
    "\n",
    "# Define function to determine difference between Wunderlich's mean and those of the sample replicates\n",
    "def diff_wunderlich(data, Wunderlich_mean=98.6): \n",
    "    return np.mean(data) - Wunderlich_mean\n",
    "\n",
    "# Function to generate one bootstrap replicate\n",
    "def bootstrap_replicate_1d(data, func):  \n",
    "    \"\"\"Generate bootstrap replicate of 1D data.\"\"\"\n",
    "    bs_sample = np.random.choice(data, len(data))\n",
    "    return func(bs_sample)\n",
    "\n",
    "# Function to generate multiple replicates\n",
    "def draw_bs_reps(data, func, size=1):\n",
    "    \"\"\"Draw bootstrap replicates.\"\"\"\n",
    "    # Initialize array of replicates: bs_replicates\n",
    "    bs_replicates = np.empty(size)\n",
    "    # Generate replicates\n",
    "    for i in range(size) :\n",
    "        bs_replicates[i] = bootstrap_replicate_1d(data,func)\n",
    "    return bs_replicates\n",
    "\n",
    "bs_replicates = draw_bs_reps(shifted_temp_obs, diff_wunderlich, 10000)\n",
    "p_value = np.sum(bs_replicates <= diff) / 10000\n",
    "p_value\n",
    "# Due to this low p-value, it is not likely that our sample mean is really Wunderlich's mean temperature (98.6).\n",
    "# Less than 1 in 10000 bootstrap replicates of the sample population had a mean temperature >= 98.6"
   ]
  },
  {
   "cell_type": "markdown",
   "metadata": {},
   "source": [
    "4. Draw a small sample of size 10 from the data and repeat both tests. \n",
    "    • Which one is the correct one to use?\n",
    "        As the sample size now is <= 30, we should use the t-statistic\n",
    "    • What do you notice? What does this tell you about the difference in application of the t and z statistics\n",
    "        The T statistic calculated below for a sample of size 10 is ~-0.82 which yields a p value of > 0.2 which        is much greater than the p value calculated above when using the sample size of 130. This random sample had a        mean which was much closer to the Wunderlich value (98.6) and thus its population distribution was much more\n",
    "likely to include a value >= 98.6.  We would not be able to reject the null hypothesis as above with the 130 population sample.\n",
    "        Repeating the sampling gave a variety of results as expected. The last sampling below resulted in a mean temperature nearly identical to 98.6 (98.59) thus resulting in a very small T statistic and a large p value, or probability which validates the null hypothesis.\n",
    "        I would conclude that the smaller our sample (T-statistic), the less reliable it is in predicting statistical significance of a mean or other parameter."
   ]
  },
  {
   "cell_type": "code",
   "execution_count": 64,
   "metadata": {},
   "outputs": [
    {
     "name": "stdout",
     "output_type": "stream",
     "text": [
      "98.59\n",
      "116    100.8\n",
      "80      98.8\n",
      "9       98.6\n",
      "69      98.9\n",
      "113     99.1\n",
      "51      98.3\n",
      "62      98.2\n",
      "24      97.8\n",
      "72      98.0\n",
      "66      97.4\n",
      "Name: temperature, dtype: float64\n"
     ]
    }
   ],
   "source": [
    "sample_pop = df['temperature'].sample(n=10)\n",
    "print(np.mean(sample_pop))\n",
    "print(sample_pop)"
   ]
  },
  {
   "cell_type": "code",
   "execution_count": 65,
   "metadata": {},
   "outputs": [
    {
     "name": "stdout",
     "output_type": "stream",
     "text": [
      "-0.03555815446870252\n"
     ]
    }
   ],
   "source": [
    "T = (np.mean(sample_pop) - 98.6) / (np.std(sample_pop)/ (10**(0.5)))\n",
    "print(T)"
   ]
  },
  {
   "cell_type": "markdown",
   "metadata": {},
   "source": [
    "5. At what temperature should we consider someone's temperature to be \"abnormal\"? \n",
    "    • Start by computing the margin of error and confidence interval. \n",
    "       Per the sample we are using (130 observations), below 98.1 and above 98.4 would be an abnormal body temperature. Here we generate 10,000 replicate samples compute the confidence interval and the standard deviation of the mean."
   ]
  },
  {
   "cell_type": "code",
   "execution_count": 23,
   "metadata": {},
   "outputs": [
    {
     "name": "stdout",
     "output_type": "stream",
     "text": [
      "[ 98.12228846  98.37694231]\n",
      "0.0640566146952\n",
      "0.0645632311033\n"
     ]
    },
    {
     "data": {
      "image/png": "[encoded data removed]",
      "text/plain": [
       "<matplotlib.figure.Figure at 0x271e2c17d30>"
      ]
     },
     "metadata": {},
     "output_type": "display_data"
    }
   ],
   "source": [
    "bs_replicates = draw_bs_reps(temp_obs,np.mean,10000)\n",
    "conf_int = np.percentile(bs_replicates, [2.5, 97.5])\n",
    "print(conf_int)\n",
    "\n",
    "# Compute and print SEM\n",
    "sem = np.std(temp_obs) / np.sqrt(len(temp_obs))\n",
    "print(sem)\n",
    "\n",
    "# Compute and print standard deviation of bootstrap replicates\n",
    "bs_std = np.std(bs_replicates)\n",
    "print(bs_std)\n",
    "\n",
    "# Make a histogram of the results\n",
    "_ = plt.hist(bs_replicates, bins=50, normed=True)\n",
    "_ = plt.xlabel('mean body temp degrees(F)')\n",
    "_ = plt.ylabel('PDF')\n",
    "\n",
    "# Show the plot\n",
    "plt.show()"
   ]
  },
  {
   "cell_type": "markdown",
   "metadata": {},
   "source": [
    "6. Is there a significant difference between males and females in normal temperature? YES\n",
    "• What test did you use and why?\n",
    "    Null hypothesis: male normal temp mean = female normal temp mean\n",
    "    Alternate hypothesis: male normal temp mean < female normal temp mean\n",
    "    I will use a Z-test statistic and a one sample test to calculate the probability or p value that the mean body temp for the female popuation(~98.4) falls within the normal distribution of the male body temperature population.  I used the one sample test as I could compare one population (males) to a single value (female mean body temperature).  As the population (65) was greater than 30, the z test or statistic was appropriate.\n",
    "    \n",
    "• Write a story with your conclusion in the context of the original problem. \n",
    "    The actual mean for the male population is ~-0.29 less than the female mean body temperature, which at first glance suggests a rejection of the null hypothesis.\n",
    "    To see if this difference is statistically significant, I will calculate the p value using those mean values and that difference. Sample population is > 30 so will use z-statistic.\n",
    "    I will use the female mean temperature as the target mean value. This results in a z-statistic of -3.36 which means that the mean of the male body temp is ~ -3.36 standard deviations less than the female body temperature.\n",
    "    This results in a p-value (taken from http://www.stat.ufl.edu/~athienit/Tables/Ztable.pdf) of 0.0004 (0.04%) which is less than the generally accepted value of 0.05 (alpha) necessary to support the null hypothesis.\n",
    "    Therefore, I would conclude that there is strong evidence to reject the null hypothesis and conclude there is a significant statistical difference between male and female body temperatures per the population for this project."
   ]
  },
  {
   "cell_type": "code",
   "execution_count": 43,
   "metadata": {
    "collapsed": true
   },
   "outputs": [],
   "source": [
    "temp_female = df['temperature'][df['gender'].str.contains('F')]\n",
    "temp_male = df['temperature'][df['gender'].str.contains('M')]\n",
    "temp_male_mean = np.mean(temp_male)\n",
    "temp_female_mean = np.mean(temp_female)\n",
    "diff = temp_male_mean - temp_female_mean\n",
    "std_male_pop = np.std(temp_male)"
   ]
  },
  {
   "cell_type": "code",
   "execution_count": 44,
   "metadata": {},
   "outputs": [
    {
     "name": "stdout",
     "output_type": "stream",
     "text": [
      "98.1046153846154\n",
      "98.39384615384613\n",
      "-0.289230769230727\n",
      "0.6933598841828696\n"
     ]
    }
   ],
   "source": [
    "print(temp_male_mean)\n",
    "print(temp_female_mean)\n",
    "print(diff)\n",
    "print(std_male_pop)"
   ]
  },
  {
   "cell_type": "code",
   "execution_count": 49,
   "metadata": {},
   "outputs": [
    {
     "name": "stdout",
     "output_type": "stream",
     "text": [
      "-3.3631207450440925\n"
     ]
    }
   ],
   "source": [
    "Z = (temp_male_mean - temp_female_mean)/(std_male_pop/(65**(0.5)))\n",
    "print(Z)"
   ]
  },
  {
   "cell_type": "code",
   "execution_count": null,
   "metadata": {
    "collapsed": true
   },
   "outputs": [],
   "source": []
  }
 ],
 "metadata": {
  "kernelspec": {
   "display_name": "Python 3",
   "language": "python",
   "name": "python3"
  },
  "language_info": {
   "codemirror_mode": {
    "name": "ipython",
    "version": 3
   },
   "file_extension": ".py",
   "mimetype": "text/x-python",
   "name": "python",
   "nbconvert_exporter": "python",
   "pygments_lexer": "ipython3",
   "version": "3.6.1"
  }
 },
 "nbformat": 4,
 "nbformat_minor": 1
}
